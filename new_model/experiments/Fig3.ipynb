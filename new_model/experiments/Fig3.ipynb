{
 "cells": [
  {
   "cell_type": "code",
   "execution_count": 1,
   "metadata": {
    "ExecuteTime": {
     "end_time": "2023-12-30T15:17:32.412614Z",
     "start_time": "2023-12-30T15:17:32.409592Z"
    }
   },
   "outputs": [],
   "source": [
    "import pandas as pd\n",
    "import matplotlib.pyplot as plt"
   ]
  },
  {
   "cell_type": "code",
   "execution_count": 2,
   "metadata": {
    "ExecuteTime": {
     "end_time": "2023-12-30T15:17:32.686035Z",
     "start_time": "2023-12-30T15:17:32.680552Z"
    }
   },
   "outputs": [],
   "source": [
    "t0 = 5\n",
    "\n",
    "if t0 == 5:\n",
    "    t = ''\n",
    "else:\n",
    "    t = '_' + str(t0)"
   ]
  },
  {
   "cell_type": "markdown",
   "metadata": {},
   "source": [
    "## sample"
   ]
  },
  {
   "cell_type": "markdown",
   "metadata": {},
   "source": []
  },
  {
   "cell_type": "code",
   "execution_count": 3,
   "metadata": {
    "ExecuteTime": {
     "end_time": "2023-12-30T15:17:33.331276Z",
     "start_time": "2023-12-30T15:17:33.327461Z"
    }
   },
   "outputs": [
    {
     "ename": "FileNotFoundError",
     "evalue": "[Errno 2] No such file or directory: '../results/results_sample.txt'",
     "output_type": "error",
     "traceback": [
      "\u001b[0;31m---------------------------------------------------------------------------\u001b[0m",
      "\u001b[0;31mFileNotFoundError\u001b[0m                         Traceback (most recent call last)",
      "Cell \u001b[0;32mIn[3], line 1\u001b[0m\n\u001b[0;32m----> 1\u001b[0m df \u001b[38;5;241m=\u001b[39m \u001b[43mpd\u001b[49m\u001b[38;5;241;43m.\u001b[39;49m\u001b[43mread_csv\u001b[49m\u001b[43m(\u001b[49m\u001b[38;5;124;43m'\u001b[39;49m\u001b[38;5;124;43m../results/results_sample\u001b[39;49m\u001b[38;5;132;43;01m{}\u001b[39;49;00m\u001b[38;5;124;43m.txt\u001b[39;49m\u001b[38;5;124;43m'\u001b[39;49m\u001b[38;5;241;43m.\u001b[39;49m\u001b[43mformat\u001b[49m\u001b[43m(\u001b[49m\u001b[43mt\u001b[49m\u001b[43m)\u001b[49m\u001b[43m,\u001b[49m\u001b[43m \u001b[49m\u001b[43mheader\u001b[49m\u001b[43m \u001b[49m\u001b[38;5;241;43m=\u001b[39;49m\u001b[43m \u001b[49m\u001b[38;5;28;43;01mNone\u001b[39;49;00m\u001b[43m)\u001b[49m\n",
      "File \u001b[0;32m~/vdsproject/Hybrid-ODE-NeurIPS-2021.final_base/.venv/lib/python3.11/site-packages/pandas/io/parsers/readers.py:948\u001b[0m, in \u001b[0;36mread_csv\u001b[0;34m(filepath_or_buffer, sep, delimiter, header, names, index_col, usecols, dtype, engine, converters, true_values, false_values, skipinitialspace, skiprows, skipfooter, nrows, na_values, keep_default_na, na_filter, verbose, skip_blank_lines, parse_dates, infer_datetime_format, keep_date_col, date_parser, date_format, dayfirst, cache_dates, iterator, chunksize, compression, thousands, decimal, lineterminator, quotechar, quoting, doublequote, escapechar, comment, encoding, encoding_errors, dialect, on_bad_lines, delim_whitespace, low_memory, memory_map, float_precision, storage_options, dtype_backend)\u001b[0m\n\u001b[1;32m    935\u001b[0m kwds_defaults \u001b[38;5;241m=\u001b[39m _refine_defaults_read(\n\u001b[1;32m    936\u001b[0m     dialect,\n\u001b[1;32m    937\u001b[0m     delimiter,\n\u001b[0;32m   (...)\u001b[0m\n\u001b[1;32m    944\u001b[0m     dtype_backend\u001b[38;5;241m=\u001b[39mdtype_backend,\n\u001b[1;32m    945\u001b[0m )\n\u001b[1;32m    946\u001b[0m kwds\u001b[38;5;241m.\u001b[39mupdate(kwds_defaults)\n\u001b[0;32m--> 948\u001b[0m \u001b[38;5;28;01mreturn\u001b[39;00m \u001b[43m_read\u001b[49m\u001b[43m(\u001b[49m\u001b[43mfilepath_or_buffer\u001b[49m\u001b[43m,\u001b[49m\u001b[43m \u001b[49m\u001b[43mkwds\u001b[49m\u001b[43m)\u001b[49m\n",
      "File \u001b[0;32m~/vdsproject/Hybrid-ODE-NeurIPS-2021.final_base/.venv/lib/python3.11/site-packages/pandas/io/parsers/readers.py:611\u001b[0m, in \u001b[0;36m_read\u001b[0;34m(filepath_or_buffer, kwds)\u001b[0m\n\u001b[1;32m    608\u001b[0m _validate_names(kwds\u001b[38;5;241m.\u001b[39mget(\u001b[38;5;124m\"\u001b[39m\u001b[38;5;124mnames\u001b[39m\u001b[38;5;124m\"\u001b[39m, \u001b[38;5;28;01mNone\u001b[39;00m))\n\u001b[1;32m    610\u001b[0m \u001b[38;5;66;03m# Create the parser.\u001b[39;00m\n\u001b[0;32m--> 611\u001b[0m parser \u001b[38;5;241m=\u001b[39m \u001b[43mTextFileReader\u001b[49m\u001b[43m(\u001b[49m\u001b[43mfilepath_or_buffer\u001b[49m\u001b[43m,\u001b[49m\u001b[43m \u001b[49m\u001b[38;5;241;43m*\u001b[39;49m\u001b[38;5;241;43m*\u001b[39;49m\u001b[43mkwds\u001b[49m\u001b[43m)\u001b[49m\n\u001b[1;32m    613\u001b[0m \u001b[38;5;28;01mif\u001b[39;00m chunksize \u001b[38;5;129;01mor\u001b[39;00m iterator:\n\u001b[1;32m    614\u001b[0m     \u001b[38;5;28;01mreturn\u001b[39;00m parser\n",
      "File \u001b[0;32m~/vdsproject/Hybrid-ODE-NeurIPS-2021.final_base/.venv/lib/python3.11/site-packages/pandas/io/parsers/readers.py:1448\u001b[0m, in \u001b[0;36mTextFileReader.__init__\u001b[0;34m(self, f, engine, **kwds)\u001b[0m\n\u001b[1;32m   1445\u001b[0m     \u001b[38;5;28mself\u001b[39m\u001b[38;5;241m.\u001b[39moptions[\u001b[38;5;124m\"\u001b[39m\u001b[38;5;124mhas_index_names\u001b[39m\u001b[38;5;124m\"\u001b[39m] \u001b[38;5;241m=\u001b[39m kwds[\u001b[38;5;124m\"\u001b[39m\u001b[38;5;124mhas_index_names\u001b[39m\u001b[38;5;124m\"\u001b[39m]\n\u001b[1;32m   1447\u001b[0m \u001b[38;5;28mself\u001b[39m\u001b[38;5;241m.\u001b[39mhandles: IOHandles \u001b[38;5;241m|\u001b[39m \u001b[38;5;28;01mNone\u001b[39;00m \u001b[38;5;241m=\u001b[39m \u001b[38;5;28;01mNone\u001b[39;00m\n\u001b[0;32m-> 1448\u001b[0m \u001b[38;5;28mself\u001b[39m\u001b[38;5;241m.\u001b[39m_engine \u001b[38;5;241m=\u001b[39m \u001b[38;5;28;43mself\u001b[39;49m\u001b[38;5;241;43m.\u001b[39;49m\u001b[43m_make_engine\u001b[49m\u001b[43m(\u001b[49m\u001b[43mf\u001b[49m\u001b[43m,\u001b[49m\u001b[43m \u001b[49m\u001b[38;5;28;43mself\u001b[39;49m\u001b[38;5;241;43m.\u001b[39;49m\u001b[43mengine\u001b[49m\u001b[43m)\u001b[49m\n",
      "File \u001b[0;32m~/vdsproject/Hybrid-ODE-NeurIPS-2021.final_base/.venv/lib/python3.11/site-packages/pandas/io/parsers/readers.py:1705\u001b[0m, in \u001b[0;36mTextFileReader._make_engine\u001b[0;34m(self, f, engine)\u001b[0m\n\u001b[1;32m   1703\u001b[0m     \u001b[38;5;28;01mif\u001b[39;00m \u001b[38;5;124m\"\u001b[39m\u001b[38;5;124mb\u001b[39m\u001b[38;5;124m\"\u001b[39m \u001b[38;5;129;01mnot\u001b[39;00m \u001b[38;5;129;01min\u001b[39;00m mode:\n\u001b[1;32m   1704\u001b[0m         mode \u001b[38;5;241m+\u001b[39m\u001b[38;5;241m=\u001b[39m \u001b[38;5;124m\"\u001b[39m\u001b[38;5;124mb\u001b[39m\u001b[38;5;124m\"\u001b[39m\n\u001b[0;32m-> 1705\u001b[0m \u001b[38;5;28mself\u001b[39m\u001b[38;5;241m.\u001b[39mhandles \u001b[38;5;241m=\u001b[39m \u001b[43mget_handle\u001b[49m\u001b[43m(\u001b[49m\n\u001b[1;32m   1706\u001b[0m \u001b[43m    \u001b[49m\u001b[43mf\u001b[49m\u001b[43m,\u001b[49m\n\u001b[1;32m   1707\u001b[0m \u001b[43m    \u001b[49m\u001b[43mmode\u001b[49m\u001b[43m,\u001b[49m\n\u001b[1;32m   1708\u001b[0m \u001b[43m    \u001b[49m\u001b[43mencoding\u001b[49m\u001b[38;5;241;43m=\u001b[39;49m\u001b[38;5;28;43mself\u001b[39;49m\u001b[38;5;241;43m.\u001b[39;49m\u001b[43moptions\u001b[49m\u001b[38;5;241;43m.\u001b[39;49m\u001b[43mget\u001b[49m\u001b[43m(\u001b[49m\u001b[38;5;124;43m\"\u001b[39;49m\u001b[38;5;124;43mencoding\u001b[39;49m\u001b[38;5;124;43m\"\u001b[39;49m\u001b[43m,\u001b[49m\u001b[43m \u001b[49m\u001b[38;5;28;43;01mNone\u001b[39;49;00m\u001b[43m)\u001b[49m\u001b[43m,\u001b[49m\n\u001b[1;32m   1709\u001b[0m \u001b[43m    \u001b[49m\u001b[43mcompression\u001b[49m\u001b[38;5;241;43m=\u001b[39;49m\u001b[38;5;28;43mself\u001b[39;49m\u001b[38;5;241;43m.\u001b[39;49m\u001b[43moptions\u001b[49m\u001b[38;5;241;43m.\u001b[39;49m\u001b[43mget\u001b[49m\u001b[43m(\u001b[49m\u001b[38;5;124;43m\"\u001b[39;49m\u001b[38;5;124;43mcompression\u001b[39;49m\u001b[38;5;124;43m\"\u001b[39;49m\u001b[43m,\u001b[49m\u001b[43m \u001b[49m\u001b[38;5;28;43;01mNone\u001b[39;49;00m\u001b[43m)\u001b[49m\u001b[43m,\u001b[49m\n\u001b[1;32m   1710\u001b[0m \u001b[43m    \u001b[49m\u001b[43mmemory_map\u001b[49m\u001b[38;5;241;43m=\u001b[39;49m\u001b[38;5;28;43mself\u001b[39;49m\u001b[38;5;241;43m.\u001b[39;49m\u001b[43moptions\u001b[49m\u001b[38;5;241;43m.\u001b[39;49m\u001b[43mget\u001b[49m\u001b[43m(\u001b[49m\u001b[38;5;124;43m\"\u001b[39;49m\u001b[38;5;124;43mmemory_map\u001b[39;49m\u001b[38;5;124;43m\"\u001b[39;49m\u001b[43m,\u001b[49m\u001b[43m \u001b[49m\u001b[38;5;28;43;01mFalse\u001b[39;49;00m\u001b[43m)\u001b[49m\u001b[43m,\u001b[49m\n\u001b[1;32m   1711\u001b[0m \u001b[43m    \u001b[49m\u001b[43mis_text\u001b[49m\u001b[38;5;241;43m=\u001b[39;49m\u001b[43mis_text\u001b[49m\u001b[43m,\u001b[49m\n\u001b[1;32m   1712\u001b[0m \u001b[43m    \u001b[49m\u001b[43merrors\u001b[49m\u001b[38;5;241;43m=\u001b[39;49m\u001b[38;5;28;43mself\u001b[39;49m\u001b[38;5;241;43m.\u001b[39;49m\u001b[43moptions\u001b[49m\u001b[38;5;241;43m.\u001b[39;49m\u001b[43mget\u001b[49m\u001b[43m(\u001b[49m\u001b[38;5;124;43m\"\u001b[39;49m\u001b[38;5;124;43mencoding_errors\u001b[39;49m\u001b[38;5;124;43m\"\u001b[39;49m\u001b[43m,\u001b[49m\u001b[43m \u001b[49m\u001b[38;5;124;43m\"\u001b[39;49m\u001b[38;5;124;43mstrict\u001b[39;49m\u001b[38;5;124;43m\"\u001b[39;49m\u001b[43m)\u001b[49m\u001b[43m,\u001b[49m\n\u001b[1;32m   1713\u001b[0m \u001b[43m    \u001b[49m\u001b[43mstorage_options\u001b[49m\u001b[38;5;241;43m=\u001b[39;49m\u001b[38;5;28;43mself\u001b[39;49m\u001b[38;5;241;43m.\u001b[39;49m\u001b[43moptions\u001b[49m\u001b[38;5;241;43m.\u001b[39;49m\u001b[43mget\u001b[49m\u001b[43m(\u001b[49m\u001b[38;5;124;43m\"\u001b[39;49m\u001b[38;5;124;43mstorage_options\u001b[39;49m\u001b[38;5;124;43m\"\u001b[39;49m\u001b[43m,\u001b[49m\u001b[43m \u001b[49m\u001b[38;5;28;43;01mNone\u001b[39;49;00m\u001b[43m)\u001b[49m\u001b[43m,\u001b[49m\n\u001b[1;32m   1714\u001b[0m \u001b[43m\u001b[49m\u001b[43m)\u001b[49m\n\u001b[1;32m   1715\u001b[0m \u001b[38;5;28;01massert\u001b[39;00m \u001b[38;5;28mself\u001b[39m\u001b[38;5;241m.\u001b[39mhandles \u001b[38;5;129;01mis\u001b[39;00m \u001b[38;5;129;01mnot\u001b[39;00m \u001b[38;5;28;01mNone\u001b[39;00m\n\u001b[1;32m   1716\u001b[0m f \u001b[38;5;241m=\u001b[39m \u001b[38;5;28mself\u001b[39m\u001b[38;5;241m.\u001b[39mhandles\u001b[38;5;241m.\u001b[39mhandle\n",
      "File \u001b[0;32m~/vdsproject/Hybrid-ODE-NeurIPS-2021.final_base/.venv/lib/python3.11/site-packages/pandas/io/common.py:863\u001b[0m, in \u001b[0;36mget_handle\u001b[0;34m(path_or_buf, mode, encoding, compression, memory_map, is_text, errors, storage_options)\u001b[0m\n\u001b[1;32m    858\u001b[0m \u001b[38;5;28;01melif\u001b[39;00m \u001b[38;5;28misinstance\u001b[39m(handle, \u001b[38;5;28mstr\u001b[39m):\n\u001b[1;32m    859\u001b[0m     \u001b[38;5;66;03m# Check whether the filename is to be opened in binary mode.\u001b[39;00m\n\u001b[1;32m    860\u001b[0m     \u001b[38;5;66;03m# Binary mode does not support 'encoding' and 'newline'.\u001b[39;00m\n\u001b[1;32m    861\u001b[0m     \u001b[38;5;28;01mif\u001b[39;00m ioargs\u001b[38;5;241m.\u001b[39mencoding \u001b[38;5;129;01mand\u001b[39;00m \u001b[38;5;124m\"\u001b[39m\u001b[38;5;124mb\u001b[39m\u001b[38;5;124m\"\u001b[39m \u001b[38;5;129;01mnot\u001b[39;00m \u001b[38;5;129;01min\u001b[39;00m ioargs\u001b[38;5;241m.\u001b[39mmode:\n\u001b[1;32m    862\u001b[0m         \u001b[38;5;66;03m# Encoding\u001b[39;00m\n\u001b[0;32m--> 863\u001b[0m         handle \u001b[38;5;241m=\u001b[39m \u001b[38;5;28;43mopen\u001b[39;49m\u001b[43m(\u001b[49m\n\u001b[1;32m    864\u001b[0m \u001b[43m            \u001b[49m\u001b[43mhandle\u001b[49m\u001b[43m,\u001b[49m\n\u001b[1;32m    865\u001b[0m \u001b[43m            \u001b[49m\u001b[43mioargs\u001b[49m\u001b[38;5;241;43m.\u001b[39;49m\u001b[43mmode\u001b[49m\u001b[43m,\u001b[49m\n\u001b[1;32m    866\u001b[0m \u001b[43m            \u001b[49m\u001b[43mencoding\u001b[49m\u001b[38;5;241;43m=\u001b[39;49m\u001b[43mioargs\u001b[49m\u001b[38;5;241;43m.\u001b[39;49m\u001b[43mencoding\u001b[49m\u001b[43m,\u001b[49m\n\u001b[1;32m    867\u001b[0m \u001b[43m            \u001b[49m\u001b[43merrors\u001b[49m\u001b[38;5;241;43m=\u001b[39;49m\u001b[43merrors\u001b[49m\u001b[43m,\u001b[49m\n\u001b[1;32m    868\u001b[0m \u001b[43m            \u001b[49m\u001b[43mnewline\u001b[49m\u001b[38;5;241;43m=\u001b[39;49m\u001b[38;5;124;43m\"\u001b[39;49m\u001b[38;5;124;43m\"\u001b[39;49m\u001b[43m,\u001b[49m\n\u001b[1;32m    869\u001b[0m \u001b[43m        \u001b[49m\u001b[43m)\u001b[49m\n\u001b[1;32m    870\u001b[0m     \u001b[38;5;28;01melse\u001b[39;00m:\n\u001b[1;32m    871\u001b[0m         \u001b[38;5;66;03m# Binary mode\u001b[39;00m\n\u001b[1;32m    872\u001b[0m         handle \u001b[38;5;241m=\u001b[39m \u001b[38;5;28mopen\u001b[39m(handle, ioargs\u001b[38;5;241m.\u001b[39mmode)\n",
      "\u001b[0;31mFileNotFoundError\u001b[0m: [Errno 2] No such file or directory: '../results/results_sample.txt'"
     ]
    }
   ],
   "source": [
    "df = pd.read_csv('../results/results_sample{}.txt'.format(t), header = None)"
   ]
  },
  {
   "cell_type": "code",
   "execution_count": null,
   "metadata": {},
   "outputs": [],
   "source": []
  },
  {
   "cell_type": "code",
   "execution_count": null,
   "metadata": {},
   "outputs": [],
   "source": []
  },
  {
   "cell_type": "code",
   "execution_count": null,
   "metadata": {},
   "outputs": [],
   "source": []
  },
  {
   "cell_type": "code",
   "execution_count": 4,
   "metadata": {
    "ExecuteTime": {
     "end_time": "2023-12-30T15:17:33.699368Z",
     "start_time": "2023-12-30T15:17:33.692021Z"
    }
   },
   "outputs": [
    {
     "ename": "NameError",
     "evalue": "name 'df' is not defined",
     "output_type": "error",
     "traceback": [
      "\u001b[0;31m---------------------------------------------------------------------------\u001b[0m",
      "\u001b[0;31mNameError\u001b[0m                                 Traceback (most recent call last)",
      "Cell \u001b[0;32mIn[4], line 1\u001b[0m\n\u001b[0;32m----> 1\u001b[0m df \u001b[38;5;241m=\u001b[39m \u001b[43mdf\u001b[49m[df[\u001b[38;5;241m1\u001b[39m] \u001b[38;5;241m!=\u001b[39m \u001b[38;5;241m1300\u001b[39m]\n",
      "\u001b[0;31mNameError\u001b[0m: name 'df' is not defined"
     ]
    }
   ],
   "source": [
    "df = df[df[1] != 1300]"
   ]
  },
  {
   "cell_type": "code",
   "execution_count": 5,
   "metadata": {
    "ExecuteTime": {
     "end_time": "2023-12-30T15:17:33.979458Z",
     "start_time": "2023-12-30T15:17:33.974996Z"
    }
   },
   "outputs": [
    {
     "ename": "NameError",
     "evalue": "name 'df' is not defined",
     "output_type": "error",
     "traceback": [
      "\u001b[0;31m---------------------------------------------------------------------------\u001b[0m",
      "\u001b[0;31mNameError\u001b[0m                                 Traceback (most recent call last)",
      "Cell \u001b[0;32mIn[5], line 1\u001b[0m\n\u001b[0;32m----> 1\u001b[0m df_rmse \u001b[38;5;241m=\u001b[39m \u001b[43mdf\u001b[49m[df[\u001b[38;5;241m2\u001b[39m] \u001b[38;5;241m==\u001b[39m \u001b[38;5;124m'\u001b[39m\u001b[38;5;124mrmse_x\u001b[39m\u001b[38;5;124m'\u001b[39m]\n\u001b[1;32m      2\u001b[0m df_cprs \u001b[38;5;241m=\u001b[39m df[df[\u001b[38;5;241m2\u001b[39m] \u001b[38;5;241m==\u001b[39m \u001b[38;5;124m'\u001b[39m\u001b[38;5;124mcprs_x\u001b[39m\u001b[38;5;124m'\u001b[39m]\n\u001b[1;32m      4\u001b[0m df_rmseh \u001b[38;5;241m=\u001b[39m df[df[\u001b[38;5;241m2\u001b[39m] \u001b[38;5;241m==\u001b[39m \u001b[38;5;124m'\u001b[39m\u001b[38;5;124mrmse_z0\u001b[39m\u001b[38;5;124m'\u001b[39m]\n",
      "\u001b[0;31mNameError\u001b[0m: name 'df' is not defined"
     ]
    }
   ],
   "source": [
    "df_rmse = df[df[2] == 'rmse_x']\n",
    "df_cprs = df[df[2] == 'cprs_x']\n",
    "\n",
    "df_rmseh = df[df[2] == 'rmse_z0']\n",
    "df_cprsh = df[df[2] == 'cprs_z0']"
   ]
  },
  {
   "cell_type": "markdown",
   "metadata": {},
   "source": [
    "## dimension"
   ]
  },
  {
   "cell_type": "code",
   "execution_count": 6,
   "metadata": {
    "ExecuteTime": {
     "end_time": "2023-12-30T15:17:34.696634Z",
     "start_time": "2023-12-30T15:17:34.689519Z"
    }
   },
   "outputs": [],
   "source": [
    "df2 = pd.read_csv('../results/results_dim{}.txt'.format(t), header = None)\n",
    "\n",
    "df2 = df2.sort_values([0,1,2])\n",
    "df_rmse2 = df2[df2[2] == 'rmse_x']\n",
    "df_cprs2 = df2[df2[2] == 'cprs_x']\n",
    "\n",
    "df_rmseh2 = df2[df2[2] == 'rmse_z0']\n",
    "df_cprsh2 = df2[df2[2] == 'cprs_z0']"
   ]
  },
  {
   "cell_type": "markdown",
   "metadata": {},
   "source": [
    "## noise"
   ]
  },
  {
   "cell_type": "code",
   "execution_count": 7,
   "metadata": {
    "ExecuteTime": {
     "end_time": "2023-12-30T15:17:35.422350Z",
     "start_time": "2023-12-30T15:17:35.414317Z"
    }
   },
   "outputs": [],
   "source": [
    "df3 = pd.read_csv('../results/results_noise{}.txt'.format(t), header = None)\n",
    "\n",
    "df3 = df3.sort_values([0,1,2])\n",
    "df_rmse3 = df3[df3[2] == 'rmse_x']\n",
    "df_cprs3 = df3[df3[2] == 'cprs_x']\n",
    "\n",
    "df_rmseh3 = df3[df3[2] == 'rmse_z0']\n",
    "df_cprsh3 = df3[df3[2] == 'cprs_z0']"
   ]
  },
  {
   "cell_type": "code",
   "execution_count": 8,
   "metadata": {
    "ExecuteTime": {
     "end_time": "2023-12-30T15:17:35.827386Z",
     "start_time": "2023-12-30T15:17:35.822539Z"
    }
   },
   "outputs": [],
   "source": [
    "\n",
    "model_dict = {\n",
    "    'neural': 'NODE',\n",
    "    'expert': 'Expert',\n",
    "    'residual': 'Residual',\n",
    "    'ensemble2': 'Ensemble',\n",
    "    'hybrid': 'LHM'\n",
    "}"
   ]
  },
  {
   "cell_type": "markdown",
   "metadata": {},
   "source": [
    "NB: the same size shown in output files, like 310, 400, 800, 1300, actually corresponds to what's desplayed on the graphs below as 10, 100, 500, 1000. The difference value 300 comes from "
   ]
  },
  {
   "cell_type": "markdown",
   "metadata": {},
   "source": []
  },
  {
   "cell_type": "code",
   "execution_count": 9,
   "metadata": {
    "ExecuteTime": {
     "end_time": "2023-12-30T15:17:38.201750Z",
     "start_time": "2023-12-30T15:17:37.233645Z"
    }
   },
   "outputs": [
    {
     "ename": "NameError",
     "evalue": "name 'df_rmse' is not defined",
     "output_type": "error",
     "traceback": [
      "\u001b[0;31m---------------------------------------------------------------------------\u001b[0m",
      "\u001b[0;31mNameError\u001b[0m                                 Traceback (most recent call last)",
      "Cell \u001b[0;32mIn[9], line 12\u001b[0m\n\u001b[1;32m     10\u001b[0m plt\u001b[38;5;241m.\u001b[39msubplot(\u001b[38;5;241m231\u001b[39m)\n\u001b[1;32m     11\u001b[0m \u001b[38;5;28;01mfor\u001b[39;00m n \u001b[38;5;129;01min\u001b[39;00m model_dict\u001b[38;5;241m.\u001b[39mkeys():\n\u001b[0;32m---> 12\u001b[0m     dfs \u001b[38;5;241m=\u001b[39m \u001b[43mdf_rmse\u001b[49m[df_rmse[\u001b[38;5;241m0\u001b[39m] \u001b[38;5;241m==\u001b[39m n]\n\u001b[1;32m     13\u001b[0m     \u001b[38;5;28;01mif\u001b[39;00m n \u001b[38;5;241m==\u001b[39m \u001b[38;5;124m'\u001b[39m\u001b[38;5;124mhybrid\u001b[39m\u001b[38;5;124m'\u001b[39m:\n\u001b[1;32m     14\u001b[0m         plt\u001b[38;5;241m.\u001b[39mfill_between(dfs[\u001b[38;5;241m1\u001b[39m] \u001b[38;5;241m-\u001b[39m \u001b[38;5;241m300\u001b[39m, dfs[\u001b[38;5;241m3\u001b[39m] \u001b[38;5;241m-\u001b[39m f \u001b[38;5;241m*\u001b[39m dfs[\u001b[38;5;241m4\u001b[39m], dfs[\u001b[38;5;241m3\u001b[39m] \u001b[38;5;241m+\u001b[39m f \u001b[38;5;241m*\u001b[39m dfs[\u001b[38;5;241m4\u001b[39m], alpha\u001b[38;5;241m=\u001b[39m\u001b[38;5;241m0.3\u001b[39m, color\u001b[38;5;241m=\u001b[39mcolors[\u001b[38;5;241m5\u001b[39m])\n",
      "\u001b[0;31mNameError\u001b[0m: name 'df_rmse' is not defined"
     ]
    },
    {
     "data": {
      "image/png": "[encoded data removed]",
      "text/plain": [
       "<Figure size 1400x500 with 1 Axes>"
      ]
     },
     "metadata": {},
     "output_type": "display_data"
    }
   ],
   "source": [
    "colors = plt.rcParams['axes.prop_cycle'].by_key()['color']\n",
    "\n",
    "plt.figure(figsize=(14,5))\n",
    "# plt.style.use('seaborn-colorblind')\n",
    "plt.style.use('tableau-colorblind10')\n",
    "plt.rcParams['font.size'] = '13'\n",
    "f=3\n",
    "\n",
    "# RMSE-X-Sample\n",
    "plt.subplot(231)\n",
    "for n in model_dict.keys():\n",
    "    dfs = df_rmse[df_rmse[0] == n]\n",
    "    if n == 'hybrid':\n",
    "        plt.fill_between(dfs[1] - 300, dfs[3] - f * dfs[4], dfs[3] + f * dfs[4], alpha=0.3, color=colors[5])\n",
    "        plt.plot(dfs[1] - 300, dfs[3], 'o-', label=model_dict[n], color=colors[5])\n",
    "    else:\n",
    "        plt.fill_between(dfs[1] - 300, dfs[3] - f * dfs[4], dfs[3] + f * dfs[4], alpha=0.3)\n",
    "        plt.plot(dfs[1] - 300, dfs[3], 'o-', label=model_dict[n])\n",
    "        \n",
    "# plt.title('RMSE')\n",
    "plt.xscale('log')\n",
    "plt.ylim(0.55, 1.1)\n",
    "ax = plt.gca()\n",
    "ax.set_xticks([10,100,500])\n",
    "ax.set_xticklabels([10,100,500])\n",
    "plt.xlabel('Sample size N')\n",
    "\n",
    "\n",
    "# RMSE-X-Dim\n",
    "plt.subplot(232)\n",
    "for n in model_dict.keys():\n",
    "    dfs = df_rmse2[df_rmse2[0] == n]\n",
    "    \n",
    "    if n == 'hybrid':\n",
    "        plt.fill_between(dfs[1] - 4, dfs[3] - f * dfs[4], dfs[3] + f * dfs[4], alpha=0.3, color=colors[5])\n",
    "        plt.plot(dfs[1] - 4, dfs[3], 'o-', label=model_dict[n], color=colors[5])\n",
    "    else:\n",
    "        plt.fill_between(dfs[1] - 4, dfs[3] - f * dfs[4], dfs[3] + f * dfs[4], alpha=0.3)\n",
    "        plt.plot(dfs[1] - 4, dfs[3], 'o-', label=model_dict[n])\n",
    "plt.title('Prediction accuracy: RMSE', size=18)\n",
    "plt.ylim(0.55, 1.1)\n",
    "plt.xscale('log')\n",
    "ax = plt.gca()\n",
    "ax.xaxis.set_minor_formatter(plt.NullFormatter())\n",
    "ax.set_xticks([2, 4, 8])\n",
    "ax.set_xticklabels([2, 4, 8])\n",
    "plt.xlabel('Latent dimension M')\n",
    "\n",
    "# RMSE-X-Noise\n",
    "plt.subplot(233)\n",
    "\n",
    "for n in model_dict.keys():\n",
    "    dfs = df_rmse3[df_rmse3[0] == n]\n",
    "    \n",
    "    if n == 'hybrid':\n",
    "        plt.fill_between(dfs[1], dfs[3] - f * dfs[4], dfs[3] + f * dfs[4], alpha=0.3, color=colors[5])\n",
    "        plt.plot(dfs[1], dfs[3], 'o-', label=model_dict[n], color=colors[5])\n",
    "    else:\n",
    "        plt.fill_between(dfs[1], dfs[3] - f * dfs[4], dfs[3] + f * dfs[4], alpha=0.3)\n",
    "        plt.plot(dfs[1], dfs[3], 'o-', label=model_dict[n])\n",
    "# plt.title('RMSE')\n",
    "plt.ylim(0.55, 1.1)\n",
    "# plt.xscale('log')\n",
    "ax = plt.gca()\n",
    "ax.xaxis.set_minor_formatter(plt.NullFormatter())\n",
    "ax.set_xticks([0.2, 0.4, 0.8])\n",
    "ax.set_xticklabels([0.2, 0.4, 0.8])\n",
    "plt.xlabel('Noise level $\\sigma$')\n",
    "\n",
    "# CRPS-X-Sample\n",
    "plt.subplot(234)\n",
    "for n in model_dict.keys():\n",
    "    dfs = df_cprs[df_cprs[0] == n]\n",
    "    \n",
    "    if n == 'hybrid':\n",
    "        plt.fill_between(dfs[1] - 300, dfs[3] - f * dfs[4], dfs[3] + f * dfs[4], alpha=0.3, color=colors[5])\n",
    "        plt.plot(dfs[1] - 300, dfs[3], 'o-', label=model_dict[n], color=colors[5])\n",
    "    else:\n",
    "        plt.fill_between(dfs[1] - 300, dfs[3] - f * dfs[4], dfs[3] + f * dfs[4], alpha=0.3)\n",
    "        plt.plot(dfs[1] - 300, dfs[3], 'o-', label=model_dict[n])\n",
    "# plt.title('CRPS')\n",
    "plt.ylim(0.35, 0.8)\n",
    "plt.xscale('log')\n",
    "ax = plt.gca()\n",
    "ax.set_xticks([10,100,500])\n",
    "ax.set_xticklabels([10,100,500])\n",
    "plt.xlabel('Sample size N')\n",
    "\n",
    "\n",
    "# CRPS-X-Dim\n",
    "plt.subplot(235)\n",
    "for n in model_dict.keys():\n",
    "    dfs = df_cprs2[df_cprs2[0] == n]\n",
    "    \n",
    "    if n == 'hybrid':\n",
    "        plt.fill_between(dfs[1] - 4, dfs[3] - f * dfs[4], dfs[3] + f * dfs[4], alpha=0.3, color=colors[5])\n",
    "        plt.plot(dfs[1] - 4, dfs[3], 'o-', label=model_dict[n], color=colors[5])\n",
    "    else:\n",
    "        plt.fill_between(dfs[1] - 4, dfs[3] - f * dfs[4], dfs[3] + f * dfs[4], alpha=0.3)\n",
    "        plt.plot(dfs[1] - 4, dfs[3], 'o-', label=model_dict[n])\n",
    "plt.title('Uncertainty calibration: CRPS', size=18)\n",
    "plt.xscale('log')\n",
    "plt.xlabel('Latent dimension M')\n",
    "plt.ylim(0.35, 0.8)\n",
    "ax = plt.gca()\n",
    "ax.xaxis.set_minor_formatter(plt.NullFormatter())\n",
    "ax.set_xticks([2, 4, 8])\n",
    "ax.set_xticklabels([2, 4, 8])\n",
    "\n",
    "# CRPS-X-Noise\n",
    "plt.subplot(236)\n",
    "\n",
    "for n in model_dict.keys():\n",
    "    dfs = df_cprs3[df_cprs3[0] == n]\n",
    "    \n",
    "    if n == 'hybrid':\n",
    "        plt.fill_between(dfs[1], dfs[3] - f * dfs[4], dfs[3] + f * dfs[4], alpha=0.3, color=colors[5])\n",
    "        plt.plot(dfs[1], dfs[3], 'o-', label=model_dict[n], color=colors[5])\n",
    "    else:\n",
    "        plt.fill_between(dfs[1], dfs[3] - f * dfs[4], dfs[3] + f * dfs[4], alpha=0.3)\n",
    "        plt.plot(dfs[1], dfs[3], 'o-', label=model_dict[n])\n",
    "# plt.title('CRPS')\n",
    "plt.ylim(0.35, 0.8)\n",
    "# plt.xscale('log')\n",
    "ax = plt.gca()\n",
    "ax.xaxis.set_minor_formatter(plt.NullFormatter())\n",
    "ax.set_xticks([0.2, 0.4, 0.8])\n",
    "ax.set_xticklabels([0.2, 0.4, 0.8])\n",
    "plt.xlabel('Noise level $\\sigma$')\n",
    "\n",
    "\n",
    "plt.legend(bbox_to_anchor=(1.04,1), loc=\"upper left\")\n",
    "plt.tight_layout(pad=0.1)\n",
    "\n",
    "plt.subplots_adjust(left=None, bottom=None, right=None, top=None, wspace=None, hspace=0.7)\n",
    "\n",
    "plt.savefig(fname='Fig3.png'.format(t), dpi=300)"
   ]
  },
  {
   "cell_type": "code",
   "execution_count": null,
   "metadata": {
    "collapsed": false
   },
   "outputs": [],
   "source": []
  }
 ],
 "metadata": {
  "kernelspec": {
   "display_name": "Python 3",
   "language": "python",
   "name": "python3"
  },
  "language_info": {
   "codemirror_mode": {
    "name": "ipython",
    "version": 3
   },
   "file_extension": ".py",
   "mimetype": "text/x-python",
   "name": "python",
   "nbconvert_exporter": "python",
   "pygments_lexer": "ipython3",
   "version": "3.11.5"
  }
 },
 "nbformat": 4,
 "nbformat_minor": 2
}
